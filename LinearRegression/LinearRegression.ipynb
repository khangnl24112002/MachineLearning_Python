{
 "cells": [
  {
   "attachments": {},
   "cell_type": "markdown",
   "metadata": {},
   "source": [
    "# 1. Introduction to Linear Regression"
   ]
  },
  {
   "attachments": {},
   "cell_type": "markdown",
   "metadata": {},
   "source": [
    "## Import esstential library"
   ]
  },
  {
   "cell_type": "code",
   "execution_count": 31,
   "metadata": {},
   "outputs": [],
   "source": [
    "import numpy as np\n",
    "import matplotlib.pyplot as plt"
   ]
  },
  {
   "attachments": {},
   "cell_type": "markdown",
   "metadata": {},
   "source": [
    "## Declare data and draw data using Matplotlib.plt"
   ]
  },
  {
   "cell_type": "code",
   "execution_count": 32,
   "metadata": {},
   "outputs": [
    {
     "data": {
      "image/png": "[encoded data removed]",
      "text/plain": [
       "<Figure size 432x288 with 1 Axes>"
      ]
     },
     "metadata": {
      "needs_background": "light"
     },
     "output_type": "display_data"
    }
   ],
   "source": [
    "X = np.array([[147, 150,  153, 158, 163, 165, 168, 170, 173, 175, 178, 180, 181, 182, 183]]).T\n",
    "y = np.array([[ 49, 50, 51,  54, 58, 59, 60, 62, 63, 64, 66, 67, 68, 72, 72]]).T\n",
    "# Visualize data\n",
    "plt.plot(X, y, 'ro')\n",
    "plt.axis([140, 190, 45, 75])\n",
    "plt.xlabel('Height (cm)')\n",
    "plt.ylabel('Weight (kg)')\n",
    "plt.show()\n"
   ]
  },
  {
   "cell_type": "code",
   "execution_count": 88,
   "metadata": {},
   "outputs": [
    {
     "name": "stdout",
     "output_type": "stream",
     "text": [
      "w =  [[-43.00786782]\n",
      " [  0.61762392]]\n"
     ]
    }
   ],
   "source": [
    "one = np.ones((X.shape[0], 1))\n",
    "Xbar = np.concatenate((one, X), axis=1)\n",
    "A = np.dot(Xbar.T, Xbar)\n",
    "b = np.dot(Xbar.T, y)\n",
    "w = np.dot(np.linalg.pinv(A), b)\n",
    "print('w = ', w)"
   ]
  },
  {
   "cell_type": "code",
   "execution_count": 94,
   "metadata": {},
   "outputs": [],
   "source": [
    "w_0 = w[0][0]\n",
    "w_1 = w[1][0]\n",
    "x0 = np.linspace(145, 185, 2)\n",
    "y0 = w_0 + w_1*x0"
   ]
  },
  {
   "cell_type": "code",
   "execution_count": 35,
   "metadata": {},
   "outputs": [
    {
     "data": {
      "image/png": "[encoded data removed]",
      "text/plain": [
       "<Figure size 432x288 with 1 Axes>"
      ]
     },
     "metadata": {
      "needs_background": "light"
     },
     "output_type": "display_data"
    }
   ],
   "source": [
    "plt.plot(X.T, y.T, 'ro')\n",
    "plt.plot(x0, y0)\n",
    "plt.axis([140, 195, 45, 75])\n",
    "plt.xlabel('Height (cm)')\n",
    "plt.ylabel('Weight (kg)')\n",
    "plt.show()"
   ]
  },
  {
   "attachments": {},
   "cell_type": "markdown",
   "metadata": {},
   "source": [
    "## Test with Scikit-learn"
   ]
  },
  {
   "cell_type": "code",
   "execution_count": 36,
   "metadata": {},
   "outputs": [],
   "source": [
    "from sklearn import datasets, linear_model"
   ]
  },
  {
   "cell_type": "code",
   "execution_count": 38,
   "metadata": {},
   "outputs": [
    {
     "name": "stdout",
     "output_type": "stream",
     "text": [
      "Solution found by Scikit-learn:  [[-43.00786782   0.61762392]]\n",
      "Solution found in top:  [[-43.00786782   0.61762392]]\n"
     ]
    }
   ],
   "source": [
    "regr = linear_model.LinearRegression(fit_intercept=False) # to calculating the bias\n",
    "regr.fit(Xbar, y)\n",
    "print('Solution found by Scikit-learn: ', regr.coef_)\n",
    "print('Solution found in top: ', w.T)"
   ]
  },
  {
   "attachments": {},
   "cell_type": "markdown",
   "metadata": {},
   "source": [
    "# 2. Quadratic regression"
   ]
  },
  {
   "cell_type": "code",
   "execution_count": 107,
   "metadata": {},
   "outputs": [
    {
     "data": {
      "image/png": "[encoded data removed]",
      "text/plain": [
       "<Figure size 432x288 with 1 Axes>"
      ]
     },
     "metadata": {
      "needs_background": "light"
     },
     "output_type": "display_data"
    }
   ],
   "source": [
    "hours = np.array([[6, 9, 12, 12, 15, 21, 24, 24, 27, 30, 36, 39, 45, 48, 57, 60]]).T\n",
    "happ = np.array([[12, 18, 30, 42, 48, 78, 90, 96, 96, 90, 84, 78, 66, 54, 36, 24]]).T\n",
    "plt.plot(hours, happ, 'g+', markersize=12)\n",
    "plt.xlabel('Hours')\n",
    "plt.ylabel('Happ')\n",
    "plt.axis([0, 65, 10, 100])\n",
    "plt.show()"
   ]
  },
  {
   "cell_type": "code",
   "execution_count": 79,
   "metadata": {},
   "outputs": [
    {
     "name": "stdout",
     "output_type": "stream",
     "text": [
      "[2 4 8]\n"
     ]
    }
   ],
   "source": [
    "# Quadratic function\n",
    "# input: k: degree\n",
    "# output: X: array\n",
    "# Ex: k = 3, N = 3 => X = [3, 9, 27]\n",
    "def Quad(k, N):\n",
    "    exp_arr = np.arange(1, k + 1)\n",
    "    pow_arr = np.power(N, exp_arr)\n",
    "    return pow_arr\n",
    "print(Quad(3, 2))"
   ]
  },
  {
   "cell_type": "code",
   "execution_count": 91,
   "metadata": {},
   "outputs": [
    {
     "name": "stdout",
     "output_type": "stream",
     "text": [
      "w_ =  [[-30.25286764]\n",
      " [  7.17306139]\n",
      " [ -0.10698872]]\n"
     ]
    }
   ],
   "source": [
    "one_ = np.ones((hours.shape[0], 1))\n",
    "X_T = np.array([Quad(2, x) for x in hours])\n",
    "X_bar = np.concatenate((one_, X_T), axis=1)\n",
    "X_bar\n",
    "A_ = np.dot(X_bar.T, X_bar)\n",
    "b_ = np.dot(X_bar.T, happ)\n",
    "w_ = np.dot(np.linalg.pinv(A_), b_)\n",
    "print('w_ = ', w_)"
   ]
  },
  {
   "cell_type": "code",
   "execution_count": 108,
   "metadata": {},
   "outputs": [
    {
     "data": {
      "image/png": "[encoded data removed]",
      "text/plain": [
       "<Figure size 432x288 with 1 Axes>"
      ]
     },
     "metadata": {
      "needs_background": "light"
     },
     "output_type": "display_data"
    }
   ],
   "source": [
    "w_0_ = w_[0][0]\n",
    "w_1_ = w_[1][0]\n",
    "w_2_ = w_[2][0]\n",
    "x0_ = np.linspace(0,60, 50)\n",
    "y0_ = w_0_ + w_1_*x0_ + w_2_*(x0_**2)\n",
    "plt.plot(x0_,y0_)\n",
    "plt.axis([0, 65, 10, 100])\n",
    "plt.plot(hours, happ, 'g+', markersize=12)\n",
    "plt.title('Quadratic Regression')\n",
    "plt.xlabel('Hours')\n",
    "plt.ylabel('Happ')\n",
    "plt.show()"
   ]
  }
 ],
 "metadata": {
  "kernelspec": {
   "display_name": "sklearn-env",
   "language": "python",
   "name": "python3"
  },
  "language_info": {
   "codemirror_mode": {
    "name": "ipython",
    "version": 3
   },
   "file_extension": ".py",
   "mimetype": "text/x-python",
   "name": "python",
   "nbconvert_exporter": "python",
   "pygments_lexer": "ipython3",
   "version": "3.9.16"
  },
  "orig_nbformat": 4
 },
 "nbformat": 4,
 "nbformat_minor": 2
}
